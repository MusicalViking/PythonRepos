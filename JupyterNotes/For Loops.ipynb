{
 "cells": [
  {
   "cell_type": "markdown",
   "id": "1b177018-fcc5-4198-9d6e-50ffb67bcf8e",
   "metadata": {},
   "source": [
    "Study Guide: for Loops"
   ]
  },
  {
   "cell_type": "markdown",
   "id": "63eef260-5ac3-41e0-bf1d-1029958596f0",
   "metadata": {},
   "source": [
    "Study guide: for loops\n",
    "This study guide provides a summary of what you learned in this segment and serves as a guide for the upcoming practice quiz.  \n",
    "\n",
    "In the for Loops segment, you learned about the logical structure and syntax of for loops. You took a closer look at the range() function. \n",
    "You learned about nested for loops and complex nested for loops with if statements. You also learned how to fix common errors in for loops.\n",
    "\n",
    "for Loops vs. while Loops\n",
    "for loops and while loops share several characteristics. Both loops can be used with a variety of data types, both can be nested, and both can be used with the keywords break and continue. However, there are important differences between the two types of loops: \n",
    "\n",
    "while loops are used when a segment of code needs to execute repeatedly while a condition is true\n",
    "\n",
    "for loops iterate over a sequence of elements, executing the body of the loop for each element in the sequence\n",
    "\n",
    "An important distinction is that for loops are suited for objects that have iterable structures. So lists, strings, ranges of integers. Individual integers are not iterable, but can be looped over by the use of the range() function, which is covered below. While loops do not iterate per se, rather they watch a truth condition "
   ]
  },
  {
   "cell_type": "code",
   "execution_count": null,
   "id": "0a2c8dce-20b7-46f8-ab9c-d2fb0dbe2fa0",
   "metadata": {},
   "outputs": [],
   "source": [
    "for variable in sequence:\n",
    "    body of loop"
   ]
  },
  {
   "cell_type": "markdown",
   "id": "3c01b916-4496-4def-8c6a-fa0744210164",
   "metadata": {},
   "source": [
    "Common for Loop Structures \n",
    "for Loop with range()\n",
    "\n",
    "The in keyword with the range() function generates a sequence of integer numbers, which can be used with a for loop to configure the iterations of the code. The range of numbers [0, 1, 2] correlates to ordinal index positions (1st, 2nd, 3rd), rather than the cardinal (quantity) values of the numbers 0, 1, and 2. For example, range(5) means the five index positions in the range [0, 1, 2, 3, 4]. \n",
    "\n",
    "The range() function can take up to three parameters. The roles of the three possible range(x,y,z) parameters are:\n",
    "\n",
    "x = Start - Starting index position of the range \n",
    "\n",
    "Default index position is 0.\n",
    "\n",
    "The starting index position is included in the range.\n",
    "\n",
    "Example syntax: range(2, y, z) or range(x+3, y, z) \n",
    "\n",
    "y = Stop - Ending index position of range\n",
    "\n",
    "No default index position. Must include the ending index position in the range() parameters.\n",
    "\n",
    "Example syntax: range(y)\n",
    "\n",
    "The value of the ending index position is excluded from the range.\n",
    "\n",
    "To include the ending index number, use the expression: y+1 (index + 1)\n",
    "\n",
    "Example syntax: range(x, y+1, z)\n",
    "\n",
    "Alternatively, if y = 10, you can write: range(x, 11, z)\n",
    "\n",
    "z = Step - Incremental value"
   ]
  },
  {
   "cell_type": "code",
   "execution_count": null,
   "id": "5b0cbc16-02dc-468b-9aa6-d8ed89348013",
   "metadata": {},
   "outputs": [],
   "source": [
    "# This loop iterates on the value of the \"number\" variable in a range\n",
    "# of 1 to 6+1 (the upper range limit of 6 is excluded, so +1 has\n",
    "# been added to it to include 6 in the range). The incremental value\n",
    "# for the loop is 2 (number+2). The print() function will output the\n",
    "# resulting value of \"number\" multiplied by 3.\n",
    "\n",
    "for number in range(1, 6+1, 2):\n",
    "    print(number * 3)\n",
    "\n",
    "# The loop should print 3, 9, 15"
   ]
  },
  {
   "cell_type": "markdown",
   "id": "bef52bf0-ff56-40ba-b8e5-aff9c698c19c",
   "metadata": {},
   "source": [
    "Common pitfalls when using the range() function:\n",
    "Forgetting that the upper limit of a range() isn’t included in the range.\n",
    "\n",
    "Iterating over non-sequences. For example, strings are iterable letter by letter, but not word by word. \n",
    "\n",
    "Example of a range() function where the value of the upper limit of the range is excluded:"
   ]
  },
  {
   "cell_type": "code",
   "execution_count": null,
   "id": "46fa7a52-a0c5-4886-b2dd-b353d20754f9",
   "metadata": {},
   "outputs": [],
   "source": [
    "# This loop iterates on the value of the \"number\" variable in a range\n",
    "# of 2 to 7 (the upper range limit of 8 is excluded). The print() \n",
    "# function will output the resulting value of \"number\" squared.\n",
    "\n",
    "for number in range(2,8):\n",
    "    print(number**2)\n",
    "\n",
    "# The loop should print 4, 9, 16, 25, 36, 49"
   ]
  },
  {
   "cell_type": "markdown",
   "id": "e12a755a-464f-4045-a945-703414180735",
   "metadata": {},
   "source": [
    "Nested for Loops \n",
    "The syntax of nested for loops:"
   ]
  },
  {
   "cell_type": "code",
   "execution_count": null,
   "id": "b59389ee-5eb0-4266-8f3d-0ba1e8ab1d96",
   "metadata": {},
   "outputs": [],
   "source": [
    "for x in sequence:\n",
    "    # start of the outer loop body\n",
    "    for y in sequence:\n",
    "        # start of the inner loop body\n",
    "        # end of of the inner loop body\n",
    "    # continue body of the outer loop\n",
    "    # end of the outer loop body"
   ]
  },
  {
   "cell_type": "code",
   "execution_count": null,
   "id": "6c14eb37-9adf-44c8-8fe1-11ba3a5054d4",
   "metadata": {},
   "outputs": [],
   "source": [
    "# This code demonstrates the outer and inner loop iterations of a pair \n",
    "# of nested for loops. Click \"Run\" to see the results. The outer loop\n",
    "# will run twice for the range pointer positions [0, 1] in range(2).\n",
    "# The inner loop will run 4 times for the range pointer positions \n",
    "# [0, 1, 2, 3] in range(3+1) or range(4) each time the outer loop runs.\n",
    "# So, the inner loop will execute 8 times in total.\n",
    "\n",
    "for x in range(2):\n",
    "    print(\"This is the outer loop iteration number \" + str(x))\n",
    "    for y in range(3+1):\n",
    "        print(\"Inner loop iteration number \" + str(y))\n",
    "    print(\"Exit inner loop\")"
   ]
  },
  {
   "cell_type": "markdown",
   "id": "c15a711d-87f9-46d3-9786-c7d899f1d2af",
   "metadata": {},
   "source": [
    "for loop with nested if Statement"
   ]
  },
  {
   "cell_type": "code",
   "execution_count": null,
   "id": "16fe328f-f3fb-4fc9-8a6c-58e628503901",
   "metadata": {},
   "outputs": [],
   "source": [
    "for x in sequence:\n",
    "    # start of body of for loop\n",
    "    if condition is true:\n",
    "        # start of body of if-statement\n",
    "        # end of body of if-statement\n",
    "    # continue body of for loop\n",
    "    # end of body of for loop\n",
    "\n",
    "# As a list comprehension:\n",
    "[x for x in sequence if condition]"
   ]
  },
  {
   "cell_type": "code",
   "execution_count": null,
   "id": "e42ed6c4-f412-4c73-b3c8-b17d51419715",
   "metadata": {},
   "outputs": [],
   "source": [
    "# This for loop iterates through the numbers 0 to 6. The if statement\n",
    "# uses the modulo operator to test if the \"x\" variable is divisible by\n",
    "# 2. If True, the if statement will print the value of \"x\" and exit\n",
    "# back into the for loop for the next iteration of \"x\". Since no \n",
    "# incremental value is specified in the range() parameters, the default\n",
    "# increment is +1. \n",
    "\n",
    "for x in range(7):\n",
    "    if x % 2 == 0:\n",
    "        print(x)\n",
    "\n",
    "# The loop should print 0, 2, 4, 6\n",
    "\n",
    "# As a list comprehension:\n",
    "even_numbers = [x for x in range(7) if x % 2 == 0]\n",
    "print(even_numbers)"
   ]
  },
  {
   "cell_type": "markdown",
   "id": "8ad2bde7-1d52-4030-824a-0cceaff71e7a",
   "metadata": {},
   "source": [
    "List comprehensions\n",
    "It is important to know that loops can be avoided sometimes; as you progress, you will develop a sense of when and how to do so. The concepts for loops are similar between other languages, but in Python, list comprehensions provide a concise way to create lists based on existing lists or sequences. \n",
    "\n",
    "Here is a concrete example for better understanding. Let's say you have a sequence of numbers and you want to create a new list containing only the even numbers from the sequence.\n",
    "\n",
    "With a traditional for Loop, you might write:"
   ]
  },
  {
   "cell_type": "code",
   "execution_count": null,
   "id": "1075725c-2a97-445a-adc8-8c39ddc57534",
   "metadata": {},
   "outputs": [],
   "source": [
    "sequence = range(10)\n",
    "new_list = []\n",
    "for x in sequence:\n",
    "    if x % 2 == 0:\n",
    "        new_list.append(x)"
   ]
  },
  {
   "cell_type": "code",
   "execution_count": null,
   "id": "e7ad58eb-8a34-4fcf-b48d-c8dcfd26d265",
   "metadata": {},
   "outputs": [],
   "source": [
    "sequence = range(10)\n",
    "new_list = [x for x in sequence if x % 2 == 0]"
   ]
  },
  {
   "cell_type": "markdown",
   "id": "77991009-7fcc-4899-9f32-4b4baefbd4b5",
   "metadata": {},
   "source": [
    "oth of these pieces of code will create a list of even numbers from 0 to 10: [0, 2, 4, 6, 8]. The list comprehension version does this in a single, compact line. These “one-liners” are very useful and dramatically reduce overhead. \n",
    "\n",
    "An example of a useful one-liner is:"
   ]
  },
  {
   "cell_type": "code",
   "execution_count": null,
   "id": "f5f65dc3-b127-40e0-8eef-21236293512b",
   "metadata": {},
   "outputs": [],
   "source": [
    "print(\"*\" * 8)"
   ]
  }
 ],
 "metadata": {
  "kernelspec": {
   "display_name": "Python 3 (ipykernel)",
   "language": "python",
   "name": "python3"
  },
  "language_info": {
   "codemirror_mode": {
    "name": "ipython",
    "version": 3
   },
   "file_extension": ".py",
   "mimetype": "text/x-python",
   "name": "python",
   "nbconvert_exporter": "python",
   "pygments_lexer": "ipython3",
   "version": "3.12.7"
  }
 },
 "nbformat": 4,
 "nbformat_minor": 5
}
