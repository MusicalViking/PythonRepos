{
 "cells": [
  {
   "cell_type": "markdown",
   "id": "81011fc0-b6eb-448b-a08c-770710a7818c",
   "metadata": {},
   "source": [
    "These are the exercises from the coursera python course for google it cert."
   ]
  },
  {
   "cell_type": "code",
   "execution_count": null,
   "id": "1ab8c570-b27e-4b4a-9834-726e1fc90a3f",
   "metadata": {},
   "outputs": [],
   "source": [
    "This shows the range function and the three levels of input for how it runs (start,stop,step)"
   ]
  },
  {
   "cell_type": "code",
   "execution_count": null,
   "id": "c39fb3a7-58a4-49d2-b289-71e1b8264fcf",
   "metadata": {},
   "outputs": [],
   "source": [
    "for n in range(2,11,2):\n",
    "    print(n)\n"
   ]
  },
  {
   "cell_type": "code",
   "execution_count": null,
   "id": "e6bb169c-0f25-4f59-9e47-aa7e36b4f4a1",
   "metadata": {},
   "outputs": [],
   "source": []
  },
  {
   "cell_type": "markdown",
   "id": "903ccf2b-c0f1-46a4-a1ca-1f27e5fd67e6",
   "metadata": {},
   "source": [
    "# This loop iterates on the value of the \"x\" variable in a range\n",
    "# of 2 to -1 (the end-of-range index -2 is excluded). The third \n",
    "# parameter is also a negative number, making it a decremental value\n",
    "# of -1. The print() function will output the resulting value of\n",
    "# \"x\" as it starts at 2 and counts down to -1 (index -2)."
   ]
  },
  {
   "cell_type": "code",
   "execution_count": null,
   "id": "13b3f8aa-ed58-4430-9612-b84c807d0abd",
   "metadata": {},
   "outputs": [],
   "source": [
    "for x in range(2, -2, -1):\n",
    "    print(x)\n"
   ]
  },
  {
   "cell_type": "code",
   "execution_count": null,
   "id": "90a2e02a-0b4b-4377-ba8e-338bf44b019b",
   "metadata": {},
   "outputs": [],
   "source": []
  },
  {
   "cell_type": "code",
   "execution_count": null,
   "id": "0c21bf70-8e6b-4826-bad6-e1289c03be32",
   "metadata": {},
   "outputs": [],
   "source": [
    "for left in range(7):\n",
    "  for right in range(left, 7):\n",
    "    print(\"[\" + str(left) + \"|\" + str(right) + \"]\", end=\" \")\n",
    "  print()"
   ]
  },
  {
   "cell_type": "code",
   "execution_count": null,
   "id": "dbdc330e-1533-4ff5-90d2-566231e3077b",
   "metadata": {},
   "outputs": [],
   "source": []
  },
  {
   "cell_type": "code",
   "execution_count": null,
   "id": "32352710-8695-4479-b2a7-102a20bdac42",
   "metadata": {},
   "outputs": [],
   "source": [
    "teams = [ 'Dragons', 'Wolves', 'Pandas', 'Unicorns']\n",
    "for home_team in teams:\n",
    "  for away_team in teams:\n",
    "    if home_team != away_team:\n",
    "      print(home_team + \" vs \" + away_team)"
   ]
  },
  {
   "cell_type": "code",
   "execution_count": null,
   "id": "ecbebd5e-298e-4e07-97ac-a80266219dde",
   "metadata": {},
   "outputs": [],
   "source": []
  },
  {
   "cell_type": "code",
   "execution_count": null,
   "id": "97c67f86-4c12-4869-9dbe-c631cbb6df98",
   "metadata": {},
   "outputs": [],
   "source": [
    "for element1 in long_list:\n",
    "  for element2 in long_list:\n",
    "    do_something(element1, element2)"
   ]
  }
 ],
 "metadata": {
  "kernelspec": {
   "display_name": "Python 3 (ipykernel)",
   "language": "python",
   "name": "python3"
  },
  "language_info": {
   "codemirror_mode": {
    "name": "ipython",
    "version": 3
   },
   "file_extension": ".py",
   "mimetype": "text/x-python",
   "name": "python",
   "nbconvert_exporter": "python",
   "pygments_lexer": "ipython3",
   "version": "3.12.7"
  }
 },
 "nbformat": 4,
 "nbformat_minor": 5
}
