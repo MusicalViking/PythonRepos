{
 "cells": [
  {
   "cell_type": "code",
   "execution_count": null,
   "id": "cac8a9cd-af96-41d5-9e0e-3dc468d74bd8",
   "metadata": {},
   "outputs": [],
   "source": [
    "List Operations"
   ]
  },
  {
   "cell_type": "code",
   "execution_count": 1,
   "id": "3bef300c-9268-41e9-87a7-6a9bf2e717c0",
   "metadata": {},
   "outputs": [
    {
     "name": "stdout",
     "output_type": "stream",
     "text": [
      "apple\n",
      "banana\n",
      "['apple', 'blueberry', 'cherry']\n",
      "['apple', 'grape', 'blueberry', 'cherry']\n",
      "[0, 1, 4, 9, 16, 25, 36, 49, 64, 81]\n",
      "['grape', 'blueberry']\n",
      "['apple', 'grape']\n",
      "['blueberry', 'cherry']\n",
      "apple\n",
      "grape\n",
      "blueberry\n",
      "cherry\n",
      "['apple', 'blueberry', 'cherry', 'grape']\n",
      "['grape', 'cherry', 'blueberry', 'apple']\n"
     ]
    }
   ],
   "source": [
    "# Creating Lists\n",
    "\n",
    "fruits = [\"apple\", \"banana\", \"cherry\"]\n",
    "\n",
    "print(fruits[0])  # Output: apple\n",
    "print(fruits[1])  # Output: banana\n",
    "\n",
    "# Modifying Elements\n",
    "\n",
    "fruits[1] = \"blueberry\"\n",
    "print(fruits)  # Output: ['apple', 'blueberry', 'cherry']\n",
    "\n",
    "# Inserting elements at a specific position\n",
    "\n",
    "fruits.insert(1, \"grape\")\n",
    "print(fruits)  # Output: ['apple', 'grape', 'blueberry', 'cherry', 'orange']\n",
    "\n",
    "# List comprehensions\n",
    "\n",
    "squares = [x ** 2 for x in range(10)]\n",
    "print(squares)  # Output: [0, 1, 4, 9, 16, 25, 36, 49, 64, 81]\n",
    "\n",
    "# Slicing lists\n",
    "print(fruits[1:3])  # Output: ['grape', 'blueberry']\n",
    "print(fruits[:2])  # Output: ['apple', 'grape']\n",
    "print(fruits[2:])  # Output: ['blueberry', 'orange']\n",
    "\n",
    "# Looping through lists\n",
    "for fruit in fruits:\n",
    "    print(fruit)\n",
    "\n",
    "# Example using some of these methods\n",
    "\n",
    "fruits.sort()\n",
    "print(fruits)  # Output: ['apple', 'blueberry', 'grape', 'orange']\n",
    "\n",
    "reversed_fruits = fruits.copy()\n",
    "reversed_fruits.reverse()\n",
    "print(reversed_fruits)  # Output: ['orange', 'grape', 'blueberry', 'apple']"
   ]
  },
  {
   "cell_type": "markdown",
   "id": "a85dd822-d7fe-43c8-aefa-1ab38febe3b2",
   "metadata": {},
   "source": [
    "List Methods\n",
    "\n",
    "len(list): Returns the number of items in a list.\n",
    "\n",
    "list.append(x): Adds an item to the end of the list.\n",
    "\n",
    "list.insert(i, x): Inserts an item at a given position.\n",
    "\n",
    "list.remove(x): Removes the first item from the list whose value is x.\n",
    "\n",
    "list.pop([i]): Removes the item at the given position in the list, and returns it. If no index is specified, pop() removes and returns the last item in the list.\n",
    "\n",
    "list.clear(): Removes all items from the list.\n",
    "\n",
    "list.index(x): Returns the index in the list of the first item whose value is x.\n",
    "\n",
    "list.count(x): Returns the number of times x appears in the list.\n",
    "\n",
    "list.sort(): Sorts the items of the list in place.\n",
    "\n",
    "list.reverse(): Reverses the elements of the list in place.\n",
    "\n",
    "list.copy(): Returns a shallow copy of the list."
   ]
  },
  {
   "cell_type": "code",
   "execution_count": null,
   "id": "427fc647-80a6-4618-b5a2-5e7c536a8d5c",
   "metadata": {},
   "outputs": [],
   "source": [
    "#Nested lists\n",
    "matrix = [\n",
    "    [1, 2, 3],\n",
    "    [4, 5, 6],\n",
    "    [7, 8, 9]\n",
    "]\n",
    "\n",
    "print(matrix[1][2])  # Output: 6\n",
    "\n"
   ]
  },
  {
   "cell_type": "markdown",
   "id": "26c66327-6c29-495f-9102-d5ef03d2a4b3",
   "metadata": {},
   "source": []
  },
  {
   "cell_type": "code",
   "execution_count": 1,
   "id": "b829bb3c-6a0a-4efc-9ef6-0feebae3ff83",
   "metadata": {
    "scrolled": true
   },
   "outputs": [
    {
     "name": "stdin",
     "output_type": "stream",
     "text": [
      "How many items would you like to add to the list?  3\n",
      "Enter item 1:  car\n",
      "Enter item 2:  bike\n",
      "Enter item 3:  skateboard\n"
     ]
    },
    {
     "name": "stdout",
     "output_type": "stream",
     "text": [
      "\n",
      "Items in the list:\n",
      "car\n",
      "bike\n",
      "skateboard\n"
     ]
    }
   ],
   "source": [
    "# items_list = []: Initializes an empty list to store the items.\n",
    "\n",
    "# num_items = int(input(\"How many items would you like to add to the list? \")): Prompts the user for the number of items they want to add.\n",
    "\n",
    "# The for loop iterates num_items times, asking the user to input an item each time and adding it to the list using items_list.append(item).\n",
    "\n",
    "# Finally, it prints the items stored in the list.\n",
    "\n",
    "\n",
    "# Initialize an empty list to store items\n",
    "items_list = []\n",
    "\n",
    "# Ask the user for the number of items to add\n",
    "num_items = int(input(\"How many items would you like to add to the list? \"))\n",
    "\n",
    "# Loop to add items to the list\n",
    "for i in range(num_items):\n",
    "    item = input(f\"Enter item {i + 1}: \")\n",
    "    items_list.append(item)\n",
    "\n",
    "# Display the list of items\n",
    "print(\"\\nItems in the list:\")\n",
    "for item in items_list:\n",
    "    print(item)"
   ]
  },
  {
   "cell_type": "markdown",
   "id": "43962fc0-c4f1-4191-a6c8-f1a3073beca6",
   "metadata": {},
   "source": [
    "This is how you string lists together using zip function"
   ]
  },
  {
   "cell_type": "code",
   "execution_count": null,
   "id": "4887aab4-fd27-48ab-a5ac-1fbc6522612c",
   "metadata": {},
   "outputs": [],
   "source": [
    "names = [\"Alice\", \"Bob\", \"Charlie\"]\n",
    "ages = [24, 30, 18]\n",
    "for name, age in zip(names, ages):\n",
    "    print(f\"{name} is {age} years old.\")"
   ]
  },
  {
   "cell_type": "code",
   "execution_count": null,
   "id": "3bb6129f-f51c-4624-9b51-9a3cc6b386f5",
   "metadata": {},
   "outputs": [],
   "source": [
    "names = [\"John\", \"Robert\"]\n",
    "addresses = [\"Augusta\", \"Boston\"]\n",
    "for name, address in zip(names, addresses):\n",
    "    print(f\"{name} lives in {address}\")"
   ]
  },
  {
   "cell_type": "code",
   "execution_count": null,
   "id": "9a039118-5209-4cfc-a5ba-b8bf51aea1dc",
   "metadata": {},
   "outputs": [],
   "source": []
  }
 ],
 "metadata": {
  "kernelspec": {
   "display_name": "Python 3 (ipykernel)",
   "language": "python",
   "name": "python3"
  },
  "language_info": {
   "codemirror_mode": {
    "name": "ipython",
    "version": 3
   },
   "file_extension": ".py",
   "mimetype": "text/x-python",
   "name": "python",
   "nbconvert_exporter": "python",
   "pygments_lexer": "ipython3",
   "version": "3.12.7"
  }
 },
 "nbformat": 4,
 "nbformat_minor": 5
}
