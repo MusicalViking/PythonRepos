{
 "cells": [
  {
   "cell_type": "markdown",
   "id": "d39c659b-cee8-4788-a35b-f96eb5bf338d",
   "metadata": {},
   "source": [
    "\n",
    "Creating a program to convert integers to roman numerals\n"
   ]
  },
  {
   "cell_type": "markdown",
   "id": "3a4e4547-8118-4723-8179-6a34fbd1fdf7",
   "metadata": {},
   "source": [
    "This is the code I have repeated to better understand how lists work"
   ]
  },
  {
   "cell_type": "code",
   "execution_count": 3,
   "id": "bbe4706f-f683-49bc-ae81-9dd717e37bfb",
   "metadata": {},
   "outputs": [
    {
     "name": "stdin",
     "output_type": "stream",
     "text": [
      "Please enter the numbeer you want to convert:  1982\n"
     ]
    },
    {
     "name": "stdout",
     "output_type": "stream",
     "text": [
      "The Roman Numeral for 1982 is MCMLXXXII\n"
     ]
    }
   ],
   "source": [
    "def intToRomNum(num):\n",
    "    year = [\n",
    "        1000, 900, 500, 400,\n",
    "        100, 90, 50, 40,\n",
    "        10, 9, 5, 4, 1\n",
    "    ]\n",
    "\n",
    "    roman = [\n",
    "        \"M\", \"CM\", \"D\", \"CD\",\n",
    "        \"C\", \"XC\", \"L\", \"XL\",\n",
    "        \"X\", \"IX\", \"V\", \"IV\", \n",
    "        \"I\"\n",
    "    ]\n",
    "    \n",
    "    roman_numeral = ''\n",
    "    i = 0\n",
    "    while num > 0:\n",
    "        for _ in range(num // year[i]):\n",
    "            roman_numeral += roman[i]\n",
    "            num -= year[i]\n",
    "        i += 1\n",
    "    return roman_numeral\n",
    "\n",
    "number = int(input(\"Please enter the numbeer you want to convert: \"))\n",
    "print(f\"The Roman Numeral for {number} is {intToRomNum(number)}\")\n"
   ]
  },
  {
   "cell_type": "code",
   "execution_count": null,
   "id": "e2ee262e-a4d8-4f71-b7a6-70a34622c3ae",
   "metadata": {},
   "outputs": [],
   "source": []
  }
 ],
 "metadata": {
  "kernelspec": {
   "display_name": "Python 3 (ipykernel)",
   "language": "python",
   "name": "python3"
  },
  "language_info": {
   "codemirror_mode": {
    "name": "ipython",
    "version": 3
   },
   "file_extension": ".py",
   "mimetype": "text/x-python",
   "name": "python",
   "nbconvert_exporter": "python",
   "pygments_lexer": "ipython3",
   "version": "3.12.7"
  }
 },
 "nbformat": 4,
 "nbformat_minor": 5
}
